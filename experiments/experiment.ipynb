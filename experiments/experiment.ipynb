{
 "cells": [
  {
   "cell_type": "code",
   "execution_count": 139,
   "metadata": {},
   "outputs": [],
   "source": [
    "import os\n",
    "import json\n",
    "import pandas as pd\n",
    "import traceback"
   ]
  },
  {
   "cell_type": "code",
   "execution_count": 194,
   "metadata": {},
   "outputs": [],
   "source": [
    "from dotenv import load_dotenv\n",
    "load_dotenv()\n",
    "\n",
    "key = os.getenv(\"API_KEY\")"
   ]
  },
  {
   "cell_type": "code",
   "execution_count": 196,
   "metadata": {},
   "outputs": [
    {
     "name": "stdout",
     "output_type": "stream",
     "text": [
      "Requirement already satisfied: langchain_community in /Users/pranavtandra/Documents/mcq_generator/env/lib/python3.8/site-packages (0.2.11)\n",
      "Requirement already satisfied: PyYAML>=5.3 in /Users/pranavtandra/Documents/mcq_generator/env/lib/python3.8/site-packages (from langchain_community) (6.0.2)\n",
      "Requirement already satisfied: SQLAlchemy<3,>=1.4 in /Users/pranavtandra/Documents/mcq_generator/env/lib/python3.8/site-packages (from langchain_community) (2.0.32)\n",
      "Requirement already satisfied: aiohttp<4.0.0,>=3.8.3 in /Users/pranavtandra/Documents/mcq_generator/env/lib/python3.8/site-packages (from langchain_community) (3.10.3)\n",
      "Requirement already satisfied: dataclasses-json<0.7,>=0.5.7 in /Users/pranavtandra/Documents/mcq_generator/env/lib/python3.8/site-packages (from langchain_community) (0.6.7)\n",
      "Requirement already satisfied: langchain<0.3.0,>=0.2.12 in /Users/pranavtandra/Documents/mcq_generator/env/lib/python3.8/site-packages (from langchain_community) (0.2.12)\n",
      "Requirement already satisfied: langchain-core<0.3.0,>=0.2.27 in /Users/pranavtandra/Documents/mcq_generator/env/lib/python3.8/site-packages (from langchain_community) (0.2.29)\n",
      "Requirement already satisfied: langsmith<0.2.0,>=0.1.0 in /Users/pranavtandra/Documents/mcq_generator/env/lib/python3.8/site-packages (from langchain_community) (0.1.99)\n",
      "Requirement already satisfied: numpy<2,>=1 in /Users/pranavtandra/Documents/mcq_generator/env/lib/python3.8/site-packages (from langchain_community) (1.24.4)\n",
      "Requirement already satisfied: requests<3,>=2 in /Users/pranavtandra/Documents/mcq_generator/env/lib/python3.8/site-packages (from langchain_community) (2.32.3)\n",
      "Requirement already satisfied: tenacity!=8.4.0,<9.0.0,>=8.1.0 in /Users/pranavtandra/Documents/mcq_generator/env/lib/python3.8/site-packages (from langchain_community) (8.5.0)\n",
      "Requirement already satisfied: aiohappyeyeballs>=2.3.0 in /Users/pranavtandra/Documents/mcq_generator/env/lib/python3.8/site-packages (from aiohttp<4.0.0,>=3.8.3->langchain_community) (2.3.5)\n",
      "Requirement already satisfied: aiosignal>=1.1.2 in /Users/pranavtandra/Documents/mcq_generator/env/lib/python3.8/site-packages (from aiohttp<4.0.0,>=3.8.3->langchain_community) (1.3.1)\n",
      "Requirement already satisfied: attrs>=17.3.0 in /Users/pranavtandra/Documents/mcq_generator/env/lib/python3.8/site-packages (from aiohttp<4.0.0,>=3.8.3->langchain_community) (24.2.0)\n",
      "Requirement already satisfied: frozenlist>=1.1.1 in /Users/pranavtandra/Documents/mcq_generator/env/lib/python3.8/site-packages (from aiohttp<4.0.0,>=3.8.3->langchain_community) (1.4.1)\n",
      "Requirement already satisfied: multidict<7.0,>=4.5 in /Users/pranavtandra/Documents/mcq_generator/env/lib/python3.8/site-packages (from aiohttp<4.0.0,>=3.8.3->langchain_community) (6.0.5)\n",
      "Requirement already satisfied: yarl<2.0,>=1.0 in /Users/pranavtandra/Documents/mcq_generator/env/lib/python3.8/site-packages (from aiohttp<4.0.0,>=3.8.3->langchain_community) (1.9.4)\n",
      "Requirement already satisfied: async-timeout<5.0,>=4.0 in /Users/pranavtandra/Documents/mcq_generator/env/lib/python3.8/site-packages (from aiohttp<4.0.0,>=3.8.3->langchain_community) (4.0.3)\n",
      "Requirement already satisfied: marshmallow<4.0.0,>=3.18.0 in /Users/pranavtandra/Documents/mcq_generator/env/lib/python3.8/site-packages (from dataclasses-json<0.7,>=0.5.7->langchain_community) (3.21.3)\n",
      "Requirement already satisfied: typing-inspect<1,>=0.4.0 in /Users/pranavtandra/Documents/mcq_generator/env/lib/python3.8/site-packages (from dataclasses-json<0.7,>=0.5.7->langchain_community) (0.9.0)\n",
      "Requirement already satisfied: langchain-text-splitters<0.3.0,>=0.2.0 in /Users/pranavtandra/Documents/mcq_generator/env/lib/python3.8/site-packages (from langchain<0.3.0,>=0.2.12->langchain_community) (0.2.2)\n",
      "Requirement already satisfied: pydantic<3,>=1 in /Users/pranavtandra/Documents/mcq_generator/env/lib/python3.8/site-packages (from langchain<0.3.0,>=0.2.12->langchain_community) (2.8.2)\n",
      "Requirement already satisfied: jsonpatch<2.0,>=1.33 in /Users/pranavtandra/Documents/mcq_generator/env/lib/python3.8/site-packages (from langchain-core<0.3.0,>=0.2.27->langchain_community) (1.33)\n",
      "Requirement already satisfied: packaging<25,>=23.2 in /Users/pranavtandra/Documents/mcq_generator/env/lib/python3.8/site-packages (from langchain-core<0.3.0,>=0.2.27->langchain_community) (24.1)\n",
      "Requirement already satisfied: typing-extensions>=4.7 in /Users/pranavtandra/Documents/mcq_generator/env/lib/python3.8/site-packages (from langchain-core<0.3.0,>=0.2.27->langchain_community) (4.12.2)\n",
      "Requirement already satisfied: orjson<4.0.0,>=3.9.14 in /Users/pranavtandra/Documents/mcq_generator/env/lib/python3.8/site-packages (from langsmith<0.2.0,>=0.1.0->langchain_community) (3.10.7)\n",
      "Requirement already satisfied: charset-normalizer<4,>=2 in /Users/pranavtandra/Documents/mcq_generator/env/lib/python3.8/site-packages (from requests<3,>=2->langchain_community) (3.3.2)\n",
      "Requirement already satisfied: idna<4,>=2.5 in /Users/pranavtandra/Documents/mcq_generator/env/lib/python3.8/site-packages (from requests<3,>=2->langchain_community) (3.7)\n",
      "Requirement already satisfied: urllib3<3,>=1.21.1 in /Users/pranavtandra/Documents/mcq_generator/env/lib/python3.8/site-packages (from requests<3,>=2->langchain_community) (2.2.2)\n",
      "Requirement already satisfied: certifi>=2017.4.17 in /Users/pranavtandra/Documents/mcq_generator/env/lib/python3.8/site-packages (from requests<3,>=2->langchain_community) (2024.7.4)\n",
      "Requirement already satisfied: greenlet!=0.4.17 in /Users/pranavtandra/Documents/mcq_generator/env/lib/python3.8/site-packages (from SQLAlchemy<3,>=1.4->langchain_community) (3.0.3)\n",
      "Requirement already satisfied: jsonpointer>=1.9 in /Users/pranavtandra/Documents/mcq_generator/env/lib/python3.8/site-packages (from jsonpatch<2.0,>=1.33->langchain-core<0.3.0,>=0.2.27->langchain_community) (3.0.0)\n",
      "Requirement already satisfied: annotated-types>=0.4.0 in /Users/pranavtandra/Documents/mcq_generator/env/lib/python3.8/site-packages (from pydantic<3,>=1->langchain<0.3.0,>=0.2.12->langchain_community) (0.7.0)\n",
      "Requirement already satisfied: pydantic-core==2.20.1 in /Users/pranavtandra/Documents/mcq_generator/env/lib/python3.8/site-packages (from pydantic<3,>=1->langchain<0.3.0,>=0.2.12->langchain_community) (2.20.1)\n",
      "Requirement already satisfied: mypy-extensions>=0.3.0 in /Users/pranavtandra/Documents/mcq_generator/env/lib/python3.8/site-packages (from typing-inspect<1,>=0.4.0->dataclasses-json<0.7,>=0.5.7->langchain_community) (1.0.0)\n"
     ]
    }
   ],
   "source": [
    "\n",
    "from langchain.chat_models import ChatOpenAI\n",
    "\n",
    "#from langchain_huggingface import ChatHuggingFace, HuggingFaceEndpoint\n"
   ]
  },
  {
   "cell_type": "code",
   "execution_count": 197,
   "metadata": {},
   "outputs": [],
   "source": [
    "llm=ChatOpenAI(openai_api_key=key, model_name=\"gpt-4o-mini\", temperature=0.5)\n",
    "#llm=HuggingFaceEndpoint(\n",
    "#    repo_id=\"microsoft/Phi-3-mini-4k-instruct\",\n",
    "#    task=\"text-generation\"\n",
    "#\n",
    "#)"
   ]
  },
  {
   "cell_type": "code",
   "execution_count": 198,
   "metadata": {},
   "outputs": [],
   "source": [
    "from langchain.llms import OpenAI\n",
    "from langchain.prompts import PromptTemplate\n",
    "from langchain.chains import LLMChain\n",
    "from langchain.chains import SequentialChain\n",
    "from langchain.callbacks import get_openai_callback\n",
    "import PyPDF2\n"
   ]
  },
  {
   "cell_type": "code",
   "execution_count": 199,
   "metadata": {},
   "outputs": [],
   "source": [
    "TEMPLATE = \"\"\"\n",
    "Text:{text}\n",
    "You are an expert MCQ maker. Given the above text it is your job to \\\n",
    "create a quiz of {number} multiple choice questions for {subject} students in {tone} tone.\n",
    "Make sure the questions are not repeated and check all the questions to be conforming to the text as well.\n",
    "Make sure to format your responses like RESPONSE_JSON below and use it as a guide. \\\n",
    "Ensure to make {number} MCQs\n",
    "### RESPONSE_JSON\n",
    "{response_json}\n",
    "\n",
    "\"\"\"\n",
    "\n",
    "RESPONSE_JSON = {\n",
    "    \"1\": {\n",
    "        \"mcq\": \"multiple choice question\",\n",
    "        \"options\": {\n",
    "            \"a\": \"choice here\",\n",
    "            \"b\": \"choice here\",\n",
    "            \"c\": \"choice here\",\n",
    "            \"d\": \"choice here\",\n",
    "        },\n",
    "        \"correct\": \"correct answer\",\n",
    "    },\n",
    "    \"2\": {\n",
    "        \"mcq\": \"multiple choice question\",\n",
    "        \"options\": {\n",
    "            \"a\": \"choice here\",\n",
    "            \"b\": \"choice here\",\n",
    "            \"c\": \"choice here\",\n",
    "            \"d\": \"choice here\",\n",
    "        },\n",
    "        \"correct\": \"correct answer\",\n",
    "    },\n",
    "    \"3\": {\n",
    "        \"mcq\": \"multiple choice question\",\n",
    "        \"options\": {\n",
    "            \"a\": \"choice here\",\n",
    "            \"b\": \"choice here\",\n",
    "            \"c\": \"choice here\",\n",
    "            \"d\": \"choice here\",\n",
    "        },\n",
    "        \"correct\": \"correct answer\",\n",
    "    },\n",
    "}\n",
    "\n",
    "quiz_generation_prompt=PromptTemplate(\n",
    "    input_variables=[\"text\", \"number\", \"subject\", \"tone\", \"response_json\"],\n",
    "    template=TEMPLATE\n",
    ")"
   ]
  },
  {
   "cell_type": "code",
   "execution_count": 200,
   "metadata": {},
   "outputs": [],
   "source": [
    "quiz_chain = LLMChain(llm=llm, prompt=quiz_generation_prompt, output_key=\"quiz\", verbose=True)"
   ]
  },
  {
   "cell_type": "code",
   "execution_count": 201,
   "metadata": {},
   "outputs": [],
   "source": [
    "TEMPLATE2=\"\"\"\n",
    "You are an expert english grammarian and writer. Given a Multiple Choice Quiz for {subject} students, \\\n",
    "you need to evaluate the complexity of the question and give a complete analysis of the quiz. Only use at max 50 words for complexity. \\\n",
    "If the quiz is not at par with the cognitive and analytical ability of the students, \\ \n",
    "update the quiz questions which needs to be changed and change the tone such that it perfectly fits the student's ability. \\\n",
    "Quiz MCQ's:\n",
    "{quiz}\n",
    "\n",
    "Check from an expert english writer for the above quiz:\n",
    "\"\"\"\n",
    "\n",
    "quiz_evaluation_prompt=PromptTemplate(\n",
    "    input_variables=[\"subject\", \"quiz\"],\n",
    "    template=TEMPLATE2\n",
    ")\n",
    "\n",
    "review_chain=LLMChain(llm=llm, prompt=quiz_evaluation_prompt, output_key=\"review\", verbose=True)"
   ]
  },
  {
   "cell_type": "code",
   "execution_count": 202,
   "metadata": {},
   "outputs": [],
   "source": [
    "generate_evaluate_chain = SequentialChain(chains=[quiz_chain, review_chain], input_variables=[\"text\", \"number\", \"subject\", \"tone\", \"response_json\"],\n",
    "                                          output_variables=[\"quiz\", \"review\"], verbose=True)"
   ]
  },
  {
   "cell_type": "code",
   "execution_count": 203,
   "metadata": {},
   "outputs": [],
   "source": [
    "file_path=r\"/Users/pranavtandra/Documents/mcq_generator/experiments/data.txt\"\n",
    "with open(file_path,'r') as file:\n",
    "    TEXT = file.read()"
   ]
  },
  {
   "cell_type": "code",
   "execution_count": 204,
   "metadata": {},
   "outputs": [
    {
     "data": {
      "text/plain": [
       "'n statistics, linear regression is a statistical model which estimates the linear relationship between a scalar response and one or more explanatory variables (also known as dependent and independent variables). The case of one explanatory variable is called simple linear regression; for more than one, the process is called multiple linear regression.[1] This term is distinct from multivariate linear regression, where multiple correlated dependent variables are predicted, rather than a single scalar variable.[2] If the explanatory variables are measured with error then errors-in-variables models are required, also known as measurement error models.\\n\\nIn linear regression, the relationships are modeled using linear predictor functions whose unknown model parameters are estimated from the data. Such models are called linear models.[3] Most commonly, the conditional mean of the response given the values of the explanatory variables (or predictors) is assumed to be an affine function of those values; less commonly, the conditional median or some other quantile is used. Like all forms of regression analysis, linear regression focuses on the conditional probability distribution of the response given the values of the predictors, rather than on the joint probability distribution of all of these variables, which is the domain of multivariate analysis.\\n\\nLinear regression was the first type of regression analysis to be studied rigorously, and to be used extensively in practical applications.[4] This is because models which depend linearly on their unknown parameters are easier to fit than models which are non-linearly related to their parameters and because the statistical properties of the resulting estimators are easier to determine.\\n\\nLinear regression has many practical uses. Most applications fall into one of the following two broad categories:\\n\\nIf the goal is error i.e variance reduction in prediction or forecasting, linear regression can be used to fit a predictive model to an observed data set of values of the response and explanatory variables. After developing such a model, if additional values of the explanatory variables are collected without an accompanying response value, the fitted model can be used to make a prediction of the response.\\nIf the goal is to explain variation in the response variable that can be attributed to variation in the explanatory variables, linear regression analysis can be applied to quantify the strength of the relationship between the response and the explanatory variables, and in particular to determine whether some explanatory variables may have no linear relationship with the response at all, or to identify which subsets of explanatory variables may contain redundant information about the response.\\nLinear regression models are often fitted using the least squares approach, but they may also be fitted in other ways, such as by minimizing the \"lack of fit\" in some other norm (as with least absolute deviations regression), or by minimizing a penalized version of the least squares cost function as in ridge regression (L2-norm penalty) and lasso (L1-norm penalty). Use of the Mean Squared Error (MSE) as the cost on a dataset that has many large outliers, can result in a model that fits the outliers more than the true data due to the higher importance assigned by MSE to large errors. So, cost functions that are robust to outliers should be used if the dataset has many large outliers. Conversely, the least squares approach can be used to fit models that are not linear models. Thus, although the terms \"least squares\" and \"linear model\" are closely linked, they are not synonymous.'"
      ]
     },
     "execution_count": 204,
     "metadata": {},
     "output_type": "execute_result"
    }
   ],
   "source": [
    "TEXT"
   ]
  },
  {
   "cell_type": "code",
   "execution_count": 205,
   "metadata": {},
   "outputs": [
    {
     "data": {
      "text/plain": [
       "'{\"1\": {\"mcq\": \"multiple choice question\", \"options\": {\"a\": \"choice here\", \"b\": \"choice here\", \"c\": \"choice here\", \"d\": \"choice here\"}, \"correct\": \"correct answer\"}, \"2\": {\"mcq\": \"multiple choice question\", \"options\": {\"a\": \"choice here\", \"b\": \"choice here\", \"c\": \"choice here\", \"d\": \"choice here\"}, \"correct\": \"correct answer\"}, \"3\": {\"mcq\": \"multiple choice question\", \"options\": {\"a\": \"choice here\", \"b\": \"choice here\", \"c\": \"choice here\", \"d\": \"choice here\"}, \"correct\": \"correct answer\"}}'"
      ]
     },
     "execution_count": 205,
     "metadata": {},
     "output_type": "execute_result"
    }
   ],
   "source": [
    "json.dumps(RESPONSE_JSON)"
   ]
  },
  {
   "cell_type": "code",
   "execution_count": 206,
   "metadata": {},
   "outputs": [],
   "source": [
    "NUMBER=5\n",
    "SUBJECT=\"Machine Learning\"\n",
    "TONE=\"simple\""
   ]
  },
  {
   "cell_type": "code",
   "execution_count": 207,
   "metadata": {},
   "outputs": [
    {
     "name": "stdout",
     "output_type": "stream",
     "text": [
      "\n",
      "\n",
      "\u001b[1m> Entering new SequentialChain chain...\u001b[0m\n",
      "\n",
      "\n",
      "\u001b[1m> Entering new LLMChain chain...\u001b[0m\n",
      "Prompt after formatting:\n",
      "\u001b[32;1m\u001b[1;3m\n",
      "Text:n statistics, linear regression is a statistical model which estimates the linear relationship between a scalar response and one or more explanatory variables (also known as dependent and independent variables). The case of one explanatory variable is called simple linear regression; for more than one, the process is called multiple linear regression.[1] This term is distinct from multivariate linear regression, where multiple correlated dependent variables are predicted, rather than a single scalar variable.[2] If the explanatory variables are measured with error then errors-in-variables models are required, also known as measurement error models.\n",
      "\n",
      "In linear regression, the relationships are modeled using linear predictor functions whose unknown model parameters are estimated from the data. Such models are called linear models.[3] Most commonly, the conditional mean of the response given the values of the explanatory variables (or predictors) is assumed to be an affine function of those values; less commonly, the conditional median or some other quantile is used. Like all forms of regression analysis, linear regression focuses on the conditional probability distribution of the response given the values of the predictors, rather than on the joint probability distribution of all of these variables, which is the domain of multivariate analysis.\n",
      "\n",
      "Linear regression was the first type of regression analysis to be studied rigorously, and to be used extensively in practical applications.[4] This is because models which depend linearly on their unknown parameters are easier to fit than models which are non-linearly related to their parameters and because the statistical properties of the resulting estimators are easier to determine.\n",
      "\n",
      "Linear regression has many practical uses. Most applications fall into one of the following two broad categories:\n",
      "\n",
      "If the goal is error i.e variance reduction in prediction or forecasting, linear regression can be used to fit a predictive model to an observed data set of values of the response and explanatory variables. After developing such a model, if additional values of the explanatory variables are collected without an accompanying response value, the fitted model can be used to make a prediction of the response.\n",
      "If the goal is to explain variation in the response variable that can be attributed to variation in the explanatory variables, linear regression analysis can be applied to quantify the strength of the relationship between the response and the explanatory variables, and in particular to determine whether some explanatory variables may have no linear relationship with the response at all, or to identify which subsets of explanatory variables may contain redundant information about the response.\n",
      "Linear regression models are often fitted using the least squares approach, but they may also be fitted in other ways, such as by minimizing the \"lack of fit\" in some other norm (as with least absolute deviations regression), or by minimizing a penalized version of the least squares cost function as in ridge regression (L2-norm penalty) and lasso (L1-norm penalty). Use of the Mean Squared Error (MSE) as the cost on a dataset that has many large outliers, can result in a model that fits the outliers more than the true data due to the higher importance assigned by MSE to large errors. So, cost functions that are robust to outliers should be used if the dataset has many large outliers. Conversely, the least squares approach can be used to fit models that are not linear models. Thus, although the terms \"least squares\" and \"linear model\" are closely linked, they are not synonymous.\n",
      "You are an expert MCQ maker. Given the above text it is your job to create a quiz of 5 multiple choice questions for Machine Learning students in simple tone.\n",
      "Make sure the questions are not repeated and check all the questions to be conforming to the text as well.\n",
      "Make sure to format your responses like RESPONSE_JSON below and use it as a guide. Ensure to make 5 MCQs\n",
      "### RESPONSE_JSON\n",
      "{\"1\": {\"mcq\": \"multiple choice question\", \"options\": {\"a\": \"choice here\", \"b\": \"choice here\", \"c\": \"choice here\", \"d\": \"choice here\"}, \"correct\": \"correct answer\"}, \"2\": {\"mcq\": \"multiple choice question\", \"options\": {\"a\": \"choice here\", \"b\": \"choice here\", \"c\": \"choice here\", \"d\": \"choice here\"}, \"correct\": \"correct answer\"}, \"3\": {\"mcq\": \"multiple choice question\", \"options\": {\"a\": \"choice here\", \"b\": \"choice here\", \"c\": \"choice here\", \"d\": \"choice here\"}, \"correct\": \"correct answer\"}}\n",
      "\n",
      "\u001b[0m\n",
      "\n",
      "\u001b[1m> Finished chain.\u001b[0m\n",
      "\n",
      "\n",
      "\u001b[1m> Entering new LLMChain chain...\u001b[0m\n",
      "Prompt after formatting:\n",
      "\u001b[32;1m\u001b[1;3m\n",
      "You are an expert english grammarian and writer. Given a Multiple Choice Quiz for Machine Learning students, you need to evaluate the complexity of the question and give a complete analysis of the quiz. Only use at max 50 words for complexity. If the quiz is not at par with the cognitive and analytical ability of the students, \\ \n",
      "update the quiz questions which needs to be changed and change the tone such that it perfectly fits the student's ability. Quiz MCQ's:\n",
      "{\"1\": {\"mcq\": \"What is the primary goal of linear regression?\", \"options\": {\"a\": \"To find non-linear relationships\", \"b\": \"To explain the variation in a response variable\", \"c\": \"To increase the number of variables\", \"d\": \"To predict the joint distribution of variables\"}, \"correct\": \"b\"}, \"2\": {\"mcq\": \"What type of regression uses one explanatory variable?\", \"options\": {\"a\": \"Multiple linear regression\", \"b\": \"Simple linear regression\", \"c\": \"Multivariate regression\", \"d\": \"Non-linear regression\"}, \"correct\": \"b\"}, \"3\": {\"mcq\": \"Which method is commonly used to fit linear regression models?\", \"options\": {\"a\": \"Maximum likelihood estimation\", \"b\": \"Least squares approach\", \"c\": \"Bayesian inference\", \"d\": \"Gradient descent\"}, \"correct\": \"b\"}, \"4\": {\"mcq\": \"What is the term for a model that predicts multiple correlated dependent variables?\", \"options\": {\"a\": \"Simple linear regression\", \"b\": \"Multiple linear regression\", \"c\": \"Multivariate linear regression\", \"d\": \"Univariate regression\"}, \"correct\": \"c\"}, \"5\": {\"mcq\": \"What should be used if a dataset has many large outliers?\", \"options\": {\"a\": \"Mean Squared Error\", \"b\": \"Least squares approach\", \"c\": \"Robust cost functions\", \"d\": \"Linear predictor functions\"}, \"correct\": \"c\"}}\n",
      "\n",
      "Check from an expert english writer for the above quiz:\n",
      "\u001b[0m\n",
      "\n",
      "\u001b[1m> Finished chain.\u001b[0m\n",
      "\n",
      "\u001b[1m> Finished chain.\u001b[0m\n"
     ]
    }
   ],
   "source": [
    "with get_openai_callback() as cb:\n",
    "    response=generate_evaluate_chain(\n",
    "        {\n",
    "            \"text\":TEXT,\n",
    "            \"number\": NUMBER,\n",
    "            \"subject\": SUBJECT,\n",
    "            \"tone\": TONE,\n",
    "            \"response_json\": json.dumps(RESPONSE_JSON)\n",
    "        }\n",
    "    )"
   ]
  },
  {
   "cell_type": "code",
   "execution_count": 208,
   "metadata": {},
   "outputs": [
    {
     "data": {
      "text/plain": [
       "{'text': 'n statistics, linear regression is a statistical model which estimates the linear relationship between a scalar response and one or more explanatory variables (also known as dependent and independent variables). The case of one explanatory variable is called simple linear regression; for more than one, the process is called multiple linear regression.[1] This term is distinct from multivariate linear regression, where multiple correlated dependent variables are predicted, rather than a single scalar variable.[2] If the explanatory variables are measured with error then errors-in-variables models are required, also known as measurement error models.\\n\\nIn linear regression, the relationships are modeled using linear predictor functions whose unknown model parameters are estimated from the data. Such models are called linear models.[3] Most commonly, the conditional mean of the response given the values of the explanatory variables (or predictors) is assumed to be an affine function of those values; less commonly, the conditional median or some other quantile is used. Like all forms of regression analysis, linear regression focuses on the conditional probability distribution of the response given the values of the predictors, rather than on the joint probability distribution of all of these variables, which is the domain of multivariate analysis.\\n\\nLinear regression was the first type of regression analysis to be studied rigorously, and to be used extensively in practical applications.[4] This is because models which depend linearly on their unknown parameters are easier to fit than models which are non-linearly related to their parameters and because the statistical properties of the resulting estimators are easier to determine.\\n\\nLinear regression has many practical uses. Most applications fall into one of the following two broad categories:\\n\\nIf the goal is error i.e variance reduction in prediction or forecasting, linear regression can be used to fit a predictive model to an observed data set of values of the response and explanatory variables. After developing such a model, if additional values of the explanatory variables are collected without an accompanying response value, the fitted model can be used to make a prediction of the response.\\nIf the goal is to explain variation in the response variable that can be attributed to variation in the explanatory variables, linear regression analysis can be applied to quantify the strength of the relationship between the response and the explanatory variables, and in particular to determine whether some explanatory variables may have no linear relationship with the response at all, or to identify which subsets of explanatory variables may contain redundant information about the response.\\nLinear regression models are often fitted using the least squares approach, but they may also be fitted in other ways, such as by minimizing the \"lack of fit\" in some other norm (as with least absolute deviations regression), or by minimizing a penalized version of the least squares cost function as in ridge regression (L2-norm penalty) and lasso (L1-norm penalty). Use of the Mean Squared Error (MSE) as the cost on a dataset that has many large outliers, can result in a model that fits the outliers more than the true data due to the higher importance assigned by MSE to large errors. So, cost functions that are robust to outliers should be used if the dataset has many large outliers. Conversely, the least squares approach can be used to fit models that are not linear models. Thus, although the terms \"least squares\" and \"linear model\" are closely linked, they are not synonymous.',\n",
       " 'number': 5,\n",
       " 'subject': 'Machine Learning',\n",
       " 'tone': 'simple',\n",
       " 'response_json': '{\"1\": {\"mcq\": \"multiple choice question\", \"options\": {\"a\": \"choice here\", \"b\": \"choice here\", \"c\": \"choice here\", \"d\": \"choice here\"}, \"correct\": \"correct answer\"}, \"2\": {\"mcq\": \"multiple choice question\", \"options\": {\"a\": \"choice here\", \"b\": \"choice here\", \"c\": \"choice here\", \"d\": \"choice here\"}, \"correct\": \"correct answer\"}, \"3\": {\"mcq\": \"multiple choice question\", \"options\": {\"a\": \"choice here\", \"b\": \"choice here\", \"c\": \"choice here\", \"d\": \"choice here\"}, \"correct\": \"correct answer\"}}',\n",
       " 'quiz': '{\"1\": {\"mcq\": \"What is the primary goal of linear regression?\", \"options\": {\"a\": \"To find non-linear relationships\", \"b\": \"To explain the variation in a response variable\", \"c\": \"To increase the number of variables\", \"d\": \"To predict the joint distribution of variables\"}, \"correct\": \"b\"}, \"2\": {\"mcq\": \"What type of regression uses one explanatory variable?\", \"options\": {\"a\": \"Multiple linear regression\", \"b\": \"Simple linear regression\", \"c\": \"Multivariate regression\", \"d\": \"Non-linear regression\"}, \"correct\": \"b\"}, \"3\": {\"mcq\": \"Which method is commonly used to fit linear regression models?\", \"options\": {\"a\": \"Maximum likelihood estimation\", \"b\": \"Least squares approach\", \"c\": \"Bayesian inference\", \"d\": \"Gradient descent\"}, \"correct\": \"b\"}, \"4\": {\"mcq\": \"What is the term for a model that predicts multiple correlated dependent variables?\", \"options\": {\"a\": \"Simple linear regression\", \"b\": \"Multiple linear regression\", \"c\": \"Multivariate linear regression\", \"d\": \"Univariate regression\"}, \"correct\": \"c\"}, \"5\": {\"mcq\": \"What should be used if a dataset has many large outliers?\", \"options\": {\"a\": \"Mean Squared Error\", \"b\": \"Least squares approach\", \"c\": \"Robust cost functions\", \"d\": \"Linear predictor functions\"}, \"correct\": \"c\"}}',\n",
       " 'review': '**Complexity Analysis:**  \\nThe quiz questions are moderately complex, requiring foundational knowledge of linear regression concepts. They effectively assess understanding but could benefit from slight adjustments to enhance clarity and engagement.\\n\\n**Quiz Evaluation and Suggested Changes:**\\n\\n1. **Question 1:**  \\n   - **Current:** What is the primary goal of linear regression?  \\n   - **Suggestion:** What is the main purpose of using linear regression in data analysis?  \\n   - **Rationale:** Simplifies language and makes it more relatable to practical applications.\\n\\n2. **Question 2:**  \\n   - **Current:** What type of regression uses one explanatory variable?  \\n   - **Suggestion:** Which type of regression involves a single explanatory variable?  \\n   - **Rationale:** Minor wording change for clarity.\\n\\n3. **Question 3:**  \\n   - **Current:** Which method is commonly used to fit linear regression models?  \\n   - **Suggestion:** What is the most common method for fitting linear regression models?  \\n   - **Rationale:** Rephrasing for ease of understanding.\\n\\n4. **Question 4:**  \\n   - **Current:** What is the term for a model that predicts multiple correlated dependent variables?  \\n   - **Suggestion:** What do we call a model that predicts several related dependent variables?  \\n   - **Rationale:** Simplifies terminology while retaining the original meaning.\\n\\n5. **Question 5:**  \\n   - **Current:** What should be used if a dataset has many large outliers?  \\n   - **Suggestion:** What approach is best when dealing with datasets that have significant outliers?  \\n   - **Rationale:** Makes the question more conversational and accessible.\\n\\n**Overall Feedback:**  \\nThe quiz is appropriate for students with a basic understanding of machine learning concepts. The suggested changes aim to enhance clarity and engagement without compromising content depth.'}"
      ]
     },
     "execution_count": 208,
     "metadata": {},
     "output_type": "execute_result"
    }
   ],
   "source": [
    "response"
   ]
  },
  {
   "cell_type": "code",
   "execution_count": 209,
   "metadata": {},
   "outputs": [],
   "source": [
    "quiz=response.get(\"quiz\")"
   ]
  },
  {
   "cell_type": "code",
   "execution_count": 210,
   "metadata": {},
   "outputs": [
    {
     "data": {
      "text/plain": [
       "'{\"1\": {\"mcq\": \"What is the primary goal of linear regression?\", \"options\": {\"a\": \"To find non-linear relationships\", \"b\": \"To explain the variation in a response variable\", \"c\": \"To increase the number of variables\", \"d\": \"To predict the joint distribution of variables\"}, \"correct\": \"b\"}, \"2\": {\"mcq\": \"What type of regression uses one explanatory variable?\", \"options\": {\"a\": \"Multiple linear regression\", \"b\": \"Simple linear regression\", \"c\": \"Multivariate regression\", \"d\": \"Non-linear regression\"}, \"correct\": \"b\"}, \"3\": {\"mcq\": \"Which method is commonly used to fit linear regression models?\", \"options\": {\"a\": \"Maximum likelihood estimation\", \"b\": \"Least squares approach\", \"c\": \"Bayesian inference\", \"d\": \"Gradient descent\"}, \"correct\": \"b\"}, \"4\": {\"mcq\": \"What is the term for a model that predicts multiple correlated dependent variables?\", \"options\": {\"a\": \"Simple linear regression\", \"b\": \"Multiple linear regression\", \"c\": \"Multivariate linear regression\", \"d\": \"Univariate regression\"}, \"correct\": \"c\"}, \"5\": {\"mcq\": \"What should be used if a dataset has many large outliers?\", \"options\": {\"a\": \"Mean Squared Error\", \"b\": \"Least squares approach\", \"c\": \"Robust cost functions\", \"d\": \"Linear predictor functions\"}, \"correct\": \"c\"}}'"
      ]
     },
     "execution_count": 210,
     "metadata": {},
     "output_type": "execute_result"
    }
   ],
   "source": [
    "quiz"
   ]
  },
  {
   "cell_type": "code",
   "execution_count": 211,
   "metadata": {},
   "outputs": [],
   "source": [
    "quiz=json.loads(quiz)"
   ]
  },
  {
   "cell_type": "code",
   "execution_count": 212,
   "metadata": {},
   "outputs": [],
   "source": [
    "quiz_table_data = []\n",
    "for key, value in quiz.items():\n",
    "    mcq = value[\"mcq\"]\n",
    "    options = \" | \".join(\n",
    "        [\n",
    "            f\"{option}: {option_value}\"\n",
    "            for option, option_value in value[\"options\"].items()\n",
    "            ]\n",
    "        )\n",
    "    correct = value[\"correct\"]\n",
    "    quiz_table_data.append({\"MCQ\": mcq, \"Choices\": options, \"Correct\": correct})"
   ]
  },
  {
   "cell_type": "code",
   "execution_count": 213,
   "metadata": {},
   "outputs": [
    {
     "data": {
      "text/plain": [
       "[{'MCQ': 'What is the primary goal of linear regression?',\n",
       "  'Choices': 'a: To find non-linear relationships | b: To explain the variation in a response variable | c: To increase the number of variables | d: To predict the joint distribution of variables',\n",
       "  'Correct': 'b'},\n",
       " {'MCQ': 'What type of regression uses one explanatory variable?',\n",
       "  'Choices': 'a: Multiple linear regression | b: Simple linear regression | c: Multivariate regression | d: Non-linear regression',\n",
       "  'Correct': 'b'},\n",
       " {'MCQ': 'Which method is commonly used to fit linear regression models?',\n",
       "  'Choices': 'a: Maximum likelihood estimation | b: Least squares approach | c: Bayesian inference | d: Gradient descent',\n",
       "  'Correct': 'b'},\n",
       " {'MCQ': 'What is the term for a model that predicts multiple correlated dependent variables?',\n",
       "  'Choices': 'a: Simple linear regression | b: Multiple linear regression | c: Multivariate linear regression | d: Univariate regression',\n",
       "  'Correct': 'c'},\n",
       " {'MCQ': 'What should be used if a dataset has many large outliers?',\n",
       "  'Choices': 'a: Mean Squared Error | b: Least squares approach | c: Robust cost functions | d: Linear predictor functions',\n",
       "  'Correct': 'c'}]"
      ]
     },
     "execution_count": 213,
     "metadata": {},
     "output_type": "execute_result"
    }
   ],
   "source": [
    "quiz_table_data"
   ]
  },
  {
   "cell_type": "code",
   "execution_count": 214,
   "metadata": {},
   "outputs": [],
   "source": [
    "quiz=pd.DataFrame(quiz_table_data)"
   ]
  },
  {
   "cell_type": "code",
   "execution_count": 215,
   "metadata": {},
   "outputs": [
    {
     "data": {
      "text/html": [
       "<div>\n",
       "<style scoped>\n",
       "    .dataframe tbody tr th:only-of-type {\n",
       "        vertical-align: middle;\n",
       "    }\n",
       "\n",
       "    .dataframe tbody tr th {\n",
       "        vertical-align: top;\n",
       "    }\n",
       "\n",
       "    .dataframe thead th {\n",
       "        text-align: right;\n",
       "    }\n",
       "</style>\n",
       "<table border=\"1\" class=\"dataframe\">\n",
       "  <thead>\n",
       "    <tr style=\"text-align: right;\">\n",
       "      <th></th>\n",
       "      <th>MCQ</th>\n",
       "      <th>Choices</th>\n",
       "      <th>Correct</th>\n",
       "    </tr>\n",
       "  </thead>\n",
       "  <tbody>\n",
       "    <tr>\n",
       "      <th>0</th>\n",
       "      <td>What is the primary goal of linear regression?</td>\n",
       "      <td>a: To find non-linear relationships | b: To ex...</td>\n",
       "      <td>b</td>\n",
       "    </tr>\n",
       "    <tr>\n",
       "      <th>1</th>\n",
       "      <td>What type of regression uses one explanatory v...</td>\n",
       "      <td>a: Multiple linear regression | b: Simple line...</td>\n",
       "      <td>b</td>\n",
       "    </tr>\n",
       "    <tr>\n",
       "      <th>2</th>\n",
       "      <td>Which method is commonly used to fit linear re...</td>\n",
       "      <td>a: Maximum likelihood estimation | b: Least sq...</td>\n",
       "      <td>b</td>\n",
       "    </tr>\n",
       "    <tr>\n",
       "      <th>3</th>\n",
       "      <td>What is the term for a model that predicts mul...</td>\n",
       "      <td>a: Simple linear regression | b: Multiple line...</td>\n",
       "      <td>c</td>\n",
       "    </tr>\n",
       "    <tr>\n",
       "      <th>4</th>\n",
       "      <td>What should be used if a dataset has many larg...</td>\n",
       "      <td>a: Mean Squared Error | b: Least squares appro...</td>\n",
       "      <td>c</td>\n",
       "    </tr>\n",
       "  </tbody>\n",
       "</table>\n",
       "</div>"
      ],
      "text/plain": [
       "                                                 MCQ  \\\n",
       "0     What is the primary goal of linear regression?   \n",
       "1  What type of regression uses one explanatory v...   \n",
       "2  Which method is commonly used to fit linear re...   \n",
       "3  What is the term for a model that predicts mul...   \n",
       "4  What should be used if a dataset has many larg...   \n",
       "\n",
       "                                             Choices Correct  \n",
       "0  a: To find non-linear relationships | b: To ex...       b  \n",
       "1  a: Multiple linear regression | b: Simple line...       b  \n",
       "2  a: Maximum likelihood estimation | b: Least sq...       b  \n",
       "3  a: Simple linear regression | b: Multiple line...       c  \n",
       "4  a: Mean Squared Error | b: Least squares appro...       c  "
      ]
     },
     "execution_count": 215,
     "metadata": {},
     "output_type": "execute_result"
    }
   ],
   "source": [
    "quiz"
   ]
  },
  {
   "cell_type": "code",
   "execution_count": 216,
   "metadata": {},
   "outputs": [
    {
     "name": "stdout",
     "output_type": "stream",
     "text": [
      "Total Tokens:2029\n",
      "Prompt Tokens:1342\n",
      "Completion Tokens:687\n",
      "Total Cost:0.0006134999999999999\n"
     ]
    }
   ],
   "source": [
    "print(f\"Total Tokens:{cb.total_tokens}\")\n",
    "print(f\"Prompt Tokens:{cb.prompt_tokens}\")\n",
    "print(f\"Completion Tokens:{cb.completion_tokens}\")\n",
    "print(f\"Total Cost:{cb.total_cost}\")"
   ]
  },
  {
   "cell_type": "code",
   "execution_count": null,
   "metadata": {},
   "outputs": [],
   "source": []
  }
 ],
 "metadata": {
  "kernelspec": {
   "display_name": "Python 3",
   "language": "python",
   "name": "python3"
  },
  "language_info": {
   "codemirror_mode": {
    "name": "ipython",
    "version": 3
   },
   "file_extension": ".py",
   "mimetype": "text/x-python",
   "name": "python",
   "nbconvert_exporter": "python",
   "pygments_lexer": "ipython3",
   "version": "3.8.19"
  }
 },
 "nbformat": 4,
 "nbformat_minor": 2
}
